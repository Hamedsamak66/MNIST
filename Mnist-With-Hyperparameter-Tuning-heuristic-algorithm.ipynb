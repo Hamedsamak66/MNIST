{
  "nbformat": 4,
  "nbformat_minor": 0,
  "metadata": {
    "colab": {
      "provenance": [],
      "authorship_tag": "ABX9TyPj07SbFFyIauQO02EPNWk1",
      "include_colab_link": true
    },
    "kernelspec": {
      "name": "python3",
      "display_name": "Python 3"
    },
    "language_info": {
      "name": "python"
    }
  },
  "cells": [
    {
      "cell_type": "markdown",
      "metadata": {
        "id": "view-in-github",
        "colab_type": "text"
      },
      "source": [
        "<a href=\"https://colab.research.google.com/github/Hamedsamak66/MNIST/blob/main/Mnist-With-Hyperparameter-Tuning-heuristic-algorithm.ipynb\" target=\"_parent\"><img src=\"https://colab.research.google.com/assets/colab-badge.svg\" alt=\"Open In Colab\"/></a>"
      ]
    },
    {
      "cell_type": "code",
      "execution_count": 3,
      "metadata": {
        "colab": {
          "base_uri": "https://localhost:8080/"
        },
        "id": "wXN83IUD0SRN",
        "outputId": "8487af7d-00b4-4058-c5ad-071017a2caa8"
      },
      "outputs": [
        {
          "output_type": "stream",
          "name": "stdout",
          "text": [
            "Requirement already satisfied: tensorflow in /usr/local/lib/python3.10/dist-packages (2.15.0)\n",
            "Requirement already satisfied: keras in /usr/local/lib/python3.10/dist-packages (2.15.0)\n",
            "Collecting deap\n",
            "  Downloading deap-1.4.1-cp310-cp310-manylinux_2_5_x86_64.manylinux1_x86_64.manylinux_2_17_x86_64.manylinux2014_x86_64.whl (135 kB)\n",
            "\u001b[2K     \u001b[90m━━━━━━━━━━━━━━━━━━━━━━━━━━━━━━━━━━━━━━━━\u001b[0m \u001b[32m135.4/135.4 kB\u001b[0m \u001b[31m1.5 MB/s\u001b[0m eta \u001b[36m0:00:00\u001b[0m\n",
            "\u001b[?25hCollecting mealpy\n",
            "  Downloading mealpy-3.0.1-py3-none-any.whl (386 kB)\n",
            "\u001b[2K     \u001b[90m━━━━━━━━━━━━━━━━━━━━━━━━━━━━━━━━━━━━━━━━\u001b[0m \u001b[32m386.3/386.3 kB\u001b[0m \u001b[31m7.1 MB/s\u001b[0m eta \u001b[36m0:00:00\u001b[0m\n",
            "\u001b[?25hCollecting scikit-optimize\n",
            "  Downloading scikit_optimize-0.10.2-py2.py3-none-any.whl (107 kB)\n",
            "\u001b[2K     \u001b[90m━━━━━━━━━━━━━━━━━━━━━━━━━━━━━━━━━━━━━━━━\u001b[0m \u001b[32m107.8/107.8 kB\u001b[0m \u001b[31m12.0 MB/s\u001b[0m eta \u001b[36m0:00:00\u001b[0m\n",
            "\u001b[?25hCollecting pyswarm\n",
            "  Downloading pyswarm-0.6.tar.gz (4.3 kB)\n",
            "  Preparing metadata (setup.py) ... \u001b[?25l\u001b[?25hdone\n",
            "Requirement already satisfied: matplotlib in /usr/local/lib/python3.10/dist-packages (3.7.1)\n",
            "Collecting sklearn\n",
            "  Downloading sklearn-0.0.post12.tar.gz (2.6 kB)\n",
            "  \u001b[1;31merror\u001b[0m: \u001b[1msubprocess-exited-with-error\u001b[0m\n",
            "  \n",
            "  \u001b[31m×\u001b[0m \u001b[32mpython setup.py egg_info\u001b[0m did not run successfully.\n",
            "  \u001b[31m│\u001b[0m exit code: \u001b[1;36m1\u001b[0m\n",
            "  \u001b[31m╰─>\u001b[0m See above for output.\n",
            "  \n",
            "  \u001b[1;35mnote\u001b[0m: This error originates from a subprocess, and is likely not a problem with pip.\n",
            "  Preparing metadata (setup.py) ... \u001b[?25l\u001b[?25herror\n",
            "\u001b[1;31merror\u001b[0m: \u001b[1mmetadata-generation-failed\u001b[0m\n",
            "\n",
            "\u001b[31m×\u001b[0m Encountered error while generating package metadata.\n",
            "\u001b[31m╰─>\u001b[0m See above for output.\n",
            "\n",
            "\u001b[1;35mnote\u001b[0m: This is an issue with the package mentioned above, not pip.\n",
            "\u001b[1;36mhint\u001b[0m: See above for details.\n",
            "Collecting deap\n",
            "  Using cached deap-1.4.1-cp310-cp310-manylinux_2_5_x86_64.manylinux1_x86_64.manylinux_2_17_x86_64.manylinux2014_x86_64.whl (135 kB)\n",
            "Collecting sklearn\n",
            "  Using cached sklearn-0.0.post12.tar.gz (2.6 kB)\n",
            "  \u001b[1;31merror\u001b[0m: \u001b[1msubprocess-exited-with-error\u001b[0m\n",
            "  \n",
            "  \u001b[31m×\u001b[0m \u001b[32mpython setup.py egg_info\u001b[0m did not run successfully.\n",
            "  \u001b[31m│\u001b[0m exit code: \u001b[1;36m1\u001b[0m\n",
            "  \u001b[31m╰─>\u001b[0m See above for output.\n",
            "  \n",
            "  \u001b[1;35mnote\u001b[0m: This error originates from a subprocess, and is likely not a problem with pip.\n",
            "  Preparing metadata (setup.py) ... \u001b[?25l\u001b[?25herror\n",
            "\u001b[1;31merror\u001b[0m: \u001b[1mmetadata-generation-failed\u001b[0m\n",
            "\n",
            "\u001b[31m×\u001b[0m Encountered error while generating package metadata.\n",
            "\u001b[31m╰─>\u001b[0m See above for output.\n",
            "\n",
            "\u001b[1;35mnote\u001b[0m: This is an issue with the package mentioned above, not pip.\n",
            "\u001b[1;36mhint\u001b[0m: See above for details.\n"
          ]
        }
      ],
      "source": [
        "!pip install tensorflow keras deap mealpy scikit-optimize pyswarm matplotlib sklearn\n"
      ]
    },
    {
      "cell_type": "code",
      "source": [
        "!pip install deap\n",
        "import numpy as np\n",
        "from tensorflow.keras.datasets import mnist\n",
        "from sklearn.preprocessing import MinMaxScaler\n",
        "from sklearn.model_selection import train_test_split\n",
        "\n",
        "from deap import base, creator, tools, algorithms\n",
        "import random\n",
        "from keras.models import Sequential\n",
        "from keras.layers import Activation, Dense\n",
        "\n"
      ],
      "metadata": {
        "id": "0V-C3mnO0Yto",
        "colab": {
          "base_uri": "https://localhost:8080/"
        },
        "outputId": "e308d286-9111-4f3e-d469-425d12a6390d"
      },
      "execution_count": 5,
      "outputs": [
        {
          "output_type": "stream",
          "name": "stdout",
          "text": [
            "Collecting deap\n",
            "  Using cached deap-1.4.1-cp310-cp310-manylinux_2_5_x86_64.manylinux1_x86_64.manylinux_2_17_x86_64.manylinux2014_x86_64.whl (135 kB)\n",
            "Requirement already satisfied: numpy in /usr/local/lib/python3.10/dist-packages (from deap) (1.25.2)\n",
            "Installing collected packages: deap\n",
            "Successfully installed deap-1.4.1\n"
          ]
        }
      ]
    },
    {
      "cell_type": "code",
      "source": [
        "# Load MNIST data\n",
        "(x_train, y_train), (x_test, y_test) = mnist.load_data()\n",
        "\n",
        "# Normalize data\n",
        "scaler = MinMaxScaler()\n",
        "x_train = x_train.reshape(-1, 28*28)\n",
        "x_test = x_test.reshape(-1, 28*28)\n",
        "x_train = scaler.fit_transform(x_train)\n",
        "x_test = scaler.transform(x_test)\n",
        "\n",
        "# Further split training data for validation\n",
        "x_train, x_val, y_train, y_val = train_test_split(x_train, y_train, test_size=0.1, random_state=42)"
      ],
      "metadata": {
        "id": "wXH085go0rYK"
      },
      "execution_count": 9,
      "outputs": []
    },
    {
      "cell_type": "code",
      "source": [
        "# Define the evaluation function\n",
        "def evaluate_ga(individual):\n",
        "    selected_features = [i for i in range(len(individual)) if individual[i] == 1]\n",
        "    if len(selected_features) == 0:\n",
        "        return 0,\n",
        "    x_train_fs = x_train[:, selected_features]\n",
        "    x_val_fs = x_val[:, selected_features]\n",
        "    model = Sequential([\n",
        "        Dense(128, activation='relu', input_shape=(x_train_fs.shape[1],)),\n",
        "        Dense(10, activation='softmax')\n",
        "    ])\n",
        "    model.compile(optimizer='adam', loss='sparse_categorical_crossentropy', metrics=['accuracy'])\n",
        "    model.fit(x_train_fs, y_train, epochs=3, batch_size=32, verbose=0)\n",
        "    loss, accuracy = model.evaluate(x_val_fs, y_val, verbose=0)\n",
        "    return accuracy,\n",
        "\n",
        "# Setup GA\n",
        "creator.create(\"FitnessMax\", base.Fitness, weights=(1.0,))\n",
        "creator.create(\"Individual\", list, fitness=creator.FitnessMax)\n",
        "\n",
        "toolbox = base.Toolbox()\n",
        "toolbox.register(\"attr_bool\", random.randint, 0, 1)\n",
        "toolbox.register(\"individual\", tools.initRepeat, creator.Individual, toolbox.attr_bool, len(x_train[0]))\n",
        "toolbox.register(\"population\", tools.initRepeat, list, toolbox.individual)\n",
        "\n",
        "toolbox.register(\"evaluate\", evaluate_ga)\n",
        "toolbox.register(\"mate\", tools.cxTwoPoint)\n",
        "toolbox.register(\"mutate\", tools.mutFlipBit, indpb=0.05)\n",
        "toolbox.register(\"select\", tools.selTournament, tournsize=3)\n",
        "\n",
        "# Run GA for feature selection\n",
        "population = toolbox.population(n=10)\n",
        "algorithms.eaSimple(population, toolbox, cxpb=0.5, mutpb=0.2, ngen=10, verbose=True)\n",
        "\n",
        "# Extract the best individual\n",
        "best_ind = tools.selBest(population, 1)[0]\n",
        "selected_features_ga = [i for i in range(len(best_ind)) if best_ind[i] == 1]\n",
        "print(f\"Selected Features (GA): {selected_features_ga}\")"
      ],
      "metadata": {
        "colab": {
          "base_uri": "https://localhost:8080/"
        },
        "id": "l6wHnyhN00Jx",
        "outputId": "47f62a3b-8992-40f7-df2a-74cb2c327d9c"
      },
      "execution_count": 10,
      "outputs": [
        {
          "output_type": "stream",
          "name": "stderr",
          "text": [
            "/usr/local/lib/python3.10/dist-packages/deap/creator.py:185: RuntimeWarning: A class named 'FitnessMax' has already been created and it will be overwritten. Consider deleting previous creation of that class or rename it.\n",
            "  warnings.warn(\"A class named '{0}' has already been created and it \"\n",
            "/usr/local/lib/python3.10/dist-packages/deap/creator.py:185: RuntimeWarning: A class named 'Individual' has already been created and it will be overwritten. Consider deleting previous creation of that class or rename it.\n",
            "  warnings.warn(\"A class named '{0}' has already been created and it \"\n"
          ]
        },
        {
          "output_type": "stream",
          "name": "stdout",
          "text": [
            "gen\tnevals\n",
            "0  \t10    \n",
            "1  \t4     \n",
            "2  \t5     \n",
            "3  \t7     \n",
            "4  \t6     \n",
            "5  \t8     \n",
            "6  \t4     \n",
            "7  \t5     \n",
            "8  \t6     \n",
            "9  \t8     \n",
            "10 \t6     \n",
            "Selected Features (GA): [1, 2, 3, 6, 8, 14, 17, 18, 19, 20, 24, 25, 29, 30, 40, 41, 42, 43, 45, 46, 48, 51, 52, 53, 54, 55, 58, 61, 76, 79, 82, 85, 87, 90, 91, 92, 96, 97, 101, 102, 104, 106, 109, 110, 113, 114, 116, 119, 121, 124, 126, 128, 129, 130, 133, 138, 141, 149, 150, 152, 155, 156, 158, 159, 160, 165, 167, 169, 171, 174, 175, 180, 182, 183, 184, 189, 190, 191, 192, 195, 197, 198, 199, 200, 201, 203, 205, 206, 209, 211, 214, 216, 218, 219, 223, 231, 232, 233, 237, 239, 240, 241, 243, 244, 245, 248, 249, 250, 251, 252, 256, 257, 258, 260, 261, 262, 263, 264, 266, 268, 271, 272, 277, 278, 281, 283, 287, 288, 289, 290, 291, 292, 293, 294, 295, 299, 301, 304, 307, 308, 310, 312, 314, 317, 318, 319, 320, 323, 324, 325, 327, 328, 329, 330, 332, 334, 336, 338, 339, 340, 342, 344, 345, 346, 347, 348, 351, 353, 355, 360, 362, 363, 364, 365, 367, 368, 369, 370, 375, 376, 381, 382, 383, 385, 386, 387, 389, 390, 394, 395, 397, 398, 399, 400, 401, 402, 403, 407, 409, 410, 411, 413, 416, 419, 420, 421, 422, 423, 424, 425, 426, 428, 431, 434, 438, 439, 440, 441, 447, 448, 449, 455, 456, 458, 459, 460, 461, 462, 463, 465, 468, 469, 470, 471, 472, 476, 477, 481, 485, 486, 488, 489, 490, 491, 492, 493, 494, 495, 499, 500, 509, 510, 512, 514, 517, 518, 519, 520, 522, 527, 529, 532, 533, 537, 538, 541, 544, 549, 550, 551, 552, 553, 555, 556, 557, 561, 563, 564, 567, 568, 570, 572, 574, 580, 582, 593, 594, 595, 597, 598, 599, 600, 601, 607, 608, 611, 613, 614, 617, 620, 622, 623, 624, 626, 629, 631, 638, 640, 641, 648, 649, 650, 651, 654, 658, 661, 662, 663, 664, 665, 666, 667, 670, 672, 673, 675, 680, 681, 683, 684, 685, 688, 689, 693, 695, 696, 698, 699, 700, 704, 705, 706, 708, 711, 712, 713, 714, 717, 719, 720, 724, 726, 728, 729, 730, 731, 732, 733, 734, 735, 736, 737, 739, 741, 742, 744, 745, 746, 747, 748, 750, 752, 755, 756, 758, 759, 760, 761, 763, 765, 769, 770, 771, 772, 773, 774, 775, 778, 779, 781, 782]\n"
          ]
        }
      ]
    },
    {
      "cell_type": "code",
      "source": [
        "!pip install mealpy\n",
        "!pip install pyswarm\n",
        "from pyswarm import pso\n",
        "from tensorflow.keras.models import Sequential\n",
        "from tensorflow.keras.layers import Dense\n",
        "from tensorflow.keras.optimizers import Adam\n",
        "\n",
        "# Define the evaluation function for PSO\n",
        "def evaluate_pso(params):\n",
        "    num_units, learning_rate = params\n",
        "    num_units = int(num_units)\n",
        "\n",
        "    model = Sequential([\n",
        "        Dense(num_units, activation='relu', input_shape=(len(selected_features_ga),)),\n",
        "        Dense(10, activation='softmax')\n",
        "    ])\n",
        "\n",
        "    model.compile(optimizer=Adam(learning_rate=learning_rate), loss='sparse_categorical_crossentropy', metrics=['accuracy'])\n",
        "    model.fit(x_train_fs, y_train, epochs=3, batch_size=32, verbose=0)\n",
        "    loss, accuracy = model.evaluate(x_val_fs, y_val, verbose=0)\n",
        "    return -accuracy  # PSO minimizes, so we use negative accuracy\n",
        "\n",
        "# Setup PSO for hyperparameter optimization\n",
        "x_train_fs = x_train[:, selected_features_ga]\n",
        "x_val_fs = x_val[:, selected_features_ga]\n",
        "lb = [32, 0.0001]  # lower bounds for units and learning rate\n",
        "ub = [128, 0.01]   # upper bounds for units and learning rate\n",
        "\n",
        "best_params_pso, best_accuracy_pso = pso(evaluate_pso, lb, ub, swarmsize=10, maxiter=10)\n",
        "\n",
        "print(f\"Best Parameters (PSO): {best_params_pso}\")\n",
        "print(f\"Best Accuracy (PSO): {-best_accuracy_pso}\")"
      ],
      "metadata": {
        "colab": {
          "base_uri": "https://localhost:8080/"
        },
        "id": "cizWleILL0Wp",
        "outputId": "71f3760e-b5d7-4335-851b-9f0e91685349"
      },
      "execution_count": 15,
      "outputs": [
        {
          "output_type": "stream",
          "name": "stdout",
          "text": [
            "Requirement already satisfied: mealpy in /usr/local/lib/python3.10/dist-packages (3.0.1)\n",
            "Requirement already satisfied: numpy>=1.17.5 in /usr/local/lib/python3.10/dist-packages (from mealpy) (1.25.2)\n",
            "Requirement already satisfied: matplotlib>=3.3.0 in /usr/local/lib/python3.10/dist-packages (from mealpy) (3.7.1)\n",
            "Requirement already satisfied: scipy>=1.7.1 in /usr/local/lib/python3.10/dist-packages (from mealpy) (1.11.4)\n",
            "Requirement already satisfied: pandas>=1.2.0 in /usr/local/lib/python3.10/dist-packages (from mealpy) (2.0.3)\n",
            "Requirement already satisfied: opfunu>=1.0.0 in /usr/local/lib/python3.10/dist-packages (from mealpy) (1.0.4)\n",
            "Requirement already satisfied: contourpy>=1.0.1 in /usr/local/lib/python3.10/dist-packages (from matplotlib>=3.3.0->mealpy) (1.2.1)\n",
            "Requirement already satisfied: cycler>=0.10 in /usr/local/lib/python3.10/dist-packages (from matplotlib>=3.3.0->mealpy) (0.12.1)\n",
            "Requirement already satisfied: fonttools>=4.22.0 in /usr/local/lib/python3.10/dist-packages (from matplotlib>=3.3.0->mealpy) (4.53.0)\n",
            "Requirement already satisfied: kiwisolver>=1.0.1 in /usr/local/lib/python3.10/dist-packages (from matplotlib>=3.3.0->mealpy) (1.4.5)\n",
            "Requirement already satisfied: packaging>=20.0 in /usr/local/lib/python3.10/dist-packages (from matplotlib>=3.3.0->mealpy) (24.1)\n",
            "Requirement already satisfied: pillow>=6.2.0 in /usr/local/lib/python3.10/dist-packages (from matplotlib>=3.3.0->mealpy) (9.4.0)\n",
            "Requirement already satisfied: pyparsing>=2.3.1 in /usr/local/lib/python3.10/dist-packages (from matplotlib>=3.3.0->mealpy) (3.1.2)\n",
            "Requirement already satisfied: python-dateutil>=2.7 in /usr/local/lib/python3.10/dist-packages (from matplotlib>=3.3.0->mealpy) (2.8.2)\n",
            "Requirement already satisfied: requests>=2.27.0 in /usr/local/lib/python3.10/dist-packages (from opfunu>=1.0.0->mealpy) (2.31.0)\n",
            "Requirement already satisfied: pytz>=2020.1 in /usr/local/lib/python3.10/dist-packages (from pandas>=1.2.0->mealpy) (2023.4)\n",
            "Requirement already satisfied: tzdata>=2022.1 in /usr/local/lib/python3.10/dist-packages (from pandas>=1.2.0->mealpy) (2024.1)\n",
            "Requirement already satisfied: six>=1.5 in /usr/local/lib/python3.10/dist-packages (from python-dateutil>=2.7->matplotlib>=3.3.0->mealpy) (1.16.0)\n",
            "Requirement already satisfied: charset-normalizer<4,>=2 in /usr/local/lib/python3.10/dist-packages (from requests>=2.27.0->opfunu>=1.0.0->mealpy) (3.3.2)\n",
            "Requirement already satisfied: idna<4,>=2.5 in /usr/local/lib/python3.10/dist-packages (from requests>=2.27.0->opfunu>=1.0.0->mealpy) (3.7)\n",
            "Requirement already satisfied: urllib3<3,>=1.21.1 in /usr/local/lib/python3.10/dist-packages (from requests>=2.27.0->opfunu>=1.0.0->mealpy) (2.0.7)\n",
            "Requirement already satisfied: certifi>=2017.4.17 in /usr/local/lib/python3.10/dist-packages (from requests>=2.27.0->opfunu>=1.0.0->mealpy) (2024.6.2)\n",
            "Collecting pyswarm\n",
            "  Using cached pyswarm-0.6.tar.gz (4.3 kB)\n",
            "  Preparing metadata (setup.py) ... \u001b[?25l\u001b[?25hdone\n",
            "Requirement already satisfied: numpy in /usr/local/lib/python3.10/dist-packages (from pyswarm) (1.25.2)\n",
            "Building wheels for collected packages: pyswarm\n",
            "  Building wheel for pyswarm (setup.py) ... \u001b[?25l\u001b[?25hdone\n",
            "  Created wheel for pyswarm: filename=pyswarm-0.6-py3-none-any.whl size=4464 sha256=fbf7dcb7700ad11bab9ccd60eb8adbc496f86f1c33116fb8b43a0ca7ae1f6ddb\n",
            "  Stored in directory: /root/.cache/pip/wheels/71/67/40/62fa158f497f942277cbab8199b05cb61c571ab324e67ad0d6\n",
            "Successfully built pyswarm\n",
            "Installing collected packages: pyswarm\n",
            "Successfully installed pyswarm-0.6\n",
            "Stopping search: maximum iterations reached --> 10\n",
            "Best Parameters (PSO): [1.12147277e+02 2.18442971e-03]\n",
            "Best Accuracy (PSO): 0.9751666784286499\n"
          ]
        }
      ]
    },
    {
      "cell_type": "code",
      "source": [
        "from sklearn.linear_model import LogisticRegression\n",
        "from sklearn.ensemble import RandomForestClassifier\n",
        "from sklearn.svm import SVC\n",
        "from sklearn.metrics import accuracy_score\n",
        "\n",
        "# Logistic Regression\n",
        "lr_model = LogisticRegression(max_iter=1000)\n",
        "lr_model.fit(x_train_fs, y_train)\n",
        "y_pred_lr = lr_model.predict(x_val_fs)\n",
        "lr_accuracy = accuracy_score(y_val, y_pred_lr)\n",
        "print(f\"Logistic Regression Accuracy: {lr_accuracy:.4f}\")\n",
        "\n",
        "# Random Forest\n",
        "rf_model = RandomForestClassifier(n_estimators=100)\n",
        "rf_model.fit(x_train_fs, y_train)\n",
        "y_pred_rf = rf_model.predict(x_val_fs)\n",
        "rf_accuracy = accuracy_score(y_val, y_pred_rf)\n",
        "print(f\"Random Forest Accuracy: {rf_accuracy:.4f}\")\n",
        "\n",
        "# Support Vector Machine\n",
        "svm_model = SVC()\n",
        "svm_model.fit(x_train_fs, y_train)\n",
        "y_pred_svm = svm_model.predict(x_val_fs)\n",
        "svm_accuracy = accuracy_score(y_val, y_pred_svm)\n",
        "print(f\"SVM Accuracy: {svm_accuracy:.4f}\")\n",
        "\n",
        "# Optimized Neural Network\n",
        "best_units, best_lr = best_params_pso\n",
        "best_units = int(best_units)\n",
        "nn_model = Sequential([\n",
        "    Dense(best_units, activation='relu', input_shape=(len(selected_features_ga),)),\n",
        "    Dense(10, activation='softmax')\n",
        "])\n",
        "nn_model.compile(optimizer=Adam(learning_rate=best_lr), loss='sparse_categorical_crossentropy', metrics=['accuracy'])\n",
        "nn_model.fit(x_train_fs, y_train, epochs=3, batch_size=32, verbose=0)\n",
        "nn_accuracy = nn_model.evaluate(x_val_fs, y_val, verbose=0)[1]\n",
        "print(f\"Optimized NN Accuracy: {nn_accuracy:.4f}\")\n"
      ],
      "metadata": {
        "colab": {
          "base_uri": "https://localhost:8080/"
        },
        "id": "UyXFW_b_TGUE",
        "outputId": "ea13c646-26d2-4272-bec1-ba44334c5996"
      },
      "execution_count": 16,
      "outputs": [
        {
          "output_type": "stream",
          "name": "stdout",
          "text": [
            "Logistic Regression Accuracy: 0.9205\n",
            "Random Forest Accuracy: 0.9647\n",
            "SVM Accuracy: 0.9788\n",
            "Optimized NN Accuracy: 0.9737\n"
          ]
        }
      ]
    },
    {
      "cell_type": "code",
      "source": [
        "import matplotlib.pyplot as plt\n",
        "\n",
        "# Plot accuracies\n",
        "model_names = ['Logistic Regression', 'Random Forest', 'SVM', 'Optimized NN']\n",
        "accuracies = [lr_accuracy, rf_accuracy, svm_accuracy, nn_accuracy]\n",
        "\n",
        "plt.barh(model_names, accuracies)\n",
        "plt.xlabel('Accuracy')\n",
        "plt.title('Model Comparison with Feature Selection and Hyperparameter Optimization')\n",
        "plt.show()"
      ],
      "metadata": {
        "colab": {
          "base_uri": "https://localhost:8080/",
          "height": 472
        },
        "id": "c8r6aKkHTHDf",
        "outputId": "116ec30a-650c-4e19-805b-94a72f0fb324"
      },
      "execution_count": 17,
      "outputs": [
        {
          "output_type": "display_data",
          "data": {
            "text/plain": [
              "<Figure size 640x480 with 1 Axes>"
            ],
            "image/png": "[encoded data removed]"
          },
          "metadata": {}
        }
      ]
    }
  ]
}